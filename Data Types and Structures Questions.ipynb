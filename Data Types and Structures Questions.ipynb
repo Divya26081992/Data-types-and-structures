{
  "nbformat": 4,
  "nbformat_minor": 0,
  "metadata": {
    "colab": {
      "provenance": []
    },
    "kernelspec": {
      "name": "python3",
      "display_name": "Python 3"
    },
    "language_info": {
      "name": "python"
    }
  },
  "cells": [
    {
      "cell_type": "markdown",
      "source": [
        "**ASSIGNMENT -2**"
      ],
      "metadata": {
        "id": "TcPGNC8msq_z"
      }
    },
    {
      "cell_type": "markdown",
      "source": [
        "**DATA TYPES AND STRUCTURES QUESTIONS**\n"
      ],
      "metadata": {
        "id": "Ml5mS1qXshzi"
      }
    },
    {
      "cell_type": "markdown",
      "source": [
        "1.\tWhat are data structures and why are they important ?\n",
        "\n",
        "    Data structures are specialized formats for organizing, processing, retrieving, and storing data in a computer. They provide a way to arrange data so that it can be accessed and manipulated efficiently, depending on the specific needs of a program.\n",
        "\n",
        "    Importance of Data Structure in python :\n",
        "     Efficient Data Organization and Storage: They enable the structured storage of data, making it easier to manage and understand relationships between data elements.\n",
        "\n",
        "     Improved Performance: Choosing the right data structure can significantly impact the efficiency of operations like             searching, sorting, insertion, and deletion, leading to faster program execution and reduced memory usage.\n",
        "\n",
        "      Code Readability and Maintainability: Well-chosen data structures enhance the clarity and organization of code, making it easier to read, understand, and maintain, especially in larger projects.\n",
        "\n",
        "      Foundation for Algorithms: Many algorithms rely on specific data structures for their implementation. Understanding data structures is essential for designing and implementing efficient algorithms to solve complex computational problems.\n",
        "\n",
        "      Problem Solving:Different data structures are suited for different types of problems. By selecting the appropriate data structure, programmers can effectively model and solve real-world problems\n"
      ],
      "metadata": {
        "id": "QKHqxFB2u1XS"
      }
    },
    {
      "cell_type": "markdown",
      "source": [
        "2.\tExplain the difference between mutable and immutable data types in Python with examples.\n",
        "\n",
        "\n",
        "    Mutable Data Types:\n",
        "    Mutable data types are those whose values or contents can be modified in-place after their creation. When you modify a mutable object, its identity (memory address) remains the same.\n",
        "   \tExamples:\n",
        "   \tLists: Elements can be added, removed, or changed.\n",
        "\n",
        "        my_list = [1, 2, 3]\n",
        "        print(id(my_list)) # Print initial ID\n",
        "        my_list.append(4)\n",
        "        print(my_list)\n",
        "        print(id(my_list)) # ID remains the same\n",
        "\n",
        "     Dictionaries: Key-value pairs can be added, removed, or updated.\n",
        "\n",
        "        my_dict = {'a': 1, 'b': 2}\n",
        "        print(id(my_dict)) # Print initial ID\n",
        "        my_dict['c'] = 3\n",
        "        print(my_dict)\n",
        "        print(id(my_dict)) # ID remains the same\n",
        "  \tSets: Elements can be added or removed.\n",
        "\n",
        "    Immutable Data Types:\n",
        "    Immutable data types are those whose values cannot be changed after they are created. Any operation that appears to \"modify\" an immutable object actually results in the creation of a new object with the updated value, and the variable then points to this new object. The original object remains unchanged in memory.\n",
        "  \tExamples:\n",
        "  \tStrings: Characters within a string cannot be altered directly.\n",
        "\n",
        "        my_string = \"hello\"\n",
        "        print(id(my_string)) # Print initial ID\n",
        "        my_string = my_string + \" world\" # Creates a new string\n",
        "        print(my_string)\n",
        "        print(id(my_string)) # ID changes\n",
        "   \n",
        "   \tTuples: Elements within a tuple cannot be changed after creation.\n",
        "\n",
        "        my_tuple = (1, 2, 3)\n",
        "        print(id(my_tuple)) # Print initial ID\n",
        "        # my_tuple[0] = 5 # This would raise a TypeError\n",
        "        my_tuple = (4, 5, 6) # Creates a new tuple\n",
        "        print(my_tuple)\n",
        "        print(id(my_tuple)) # ID changes\n",
        "\n",
        "  \tIntegers, Floats, Booleans: Their values are fixed.\n"
      ],
      "metadata": {
        "id": "ZLZXsBUmv2uF"
      }
    },
    {
      "cell_type": "markdown",
      "source": [
        "3.What are the main difference between lists and tuples in python?\n",
        "\n",
        "  The main difference between tuples and lists is that tuples are immutable, meaning their contents cannot be changed after creation, while lists are mutable and can be modified. Additionally, tuples are more memory-efficient compared to lists.\n",
        "\n",
        "  Tuples can't be changed after they're created, but lists can be modified. Tuples use less memory than lists. They are also a bit faster, especially when you're just looking up values. So, if you have data that you don't want to change, it's better to use tuples instead of lists.\n",
        "  \n",
        "  Features :\n",
        "\n",
        "  1.Mutability -\tLists can be changed by adding or removing elements (mutable)\tTuples can’t be changed by adding or removing elements (immutable)\n",
        "\n",
        "  2.Syntax -\tLists can be defined using square brackets []\tTuples can be defined using parentheses ()\n",
        "\n",
        "  3.Performance -\tLists are slower due to dynamic size and mutability\tTupes are faster due to static size and immutability\n",
        "\n",
        "  4.Methods -\tLists has more built-in methods (e.g., append, remove)\tTuples has fewer built-in methods (e.g., count, index)\n",
        "\n",
        "  5.Use Cases -\tSuitable for collections of items that may change\tIdeal for fixed collections of items\n",
        "\n",
        "  6.Memory Usage -\tLists consume more memory due to flexibility\tTuples consume less memory due to immutability\n",
        "\n",
        "  7.Iteration -\tIteration can be slightly slower\tIteration is faster due to immutability\n",
        "  \n",
        "  8.Hashability -\tLists are not hashable\tTuples are hashable if they contain hashable elements, making them usable as dictionary keys\n"
      ],
      "metadata": {
        "id": "LmuS56BWwaGJ"
      }
    },
    {
      "cell_type": "markdown",
      "source": [
        "4.  Describe how dictionaries store data.\n",
        "    Python dictionaries store data as a collection of key-value pairs. This storage mechanism is implemented using a hash table, which allows for efficient data retrieval based on the unique keys.\n",
        "\n",
        "    Key characteristics of how dictionaries store data:\n",
        "\n",
        "  •\tKey-Value Pairs:\n",
        "Each piece of data in a dictionary consists of a unique key and its associated value. The key acts as an identifier for retrieving the value.\n",
        "\n",
        "  •\tHashing:            \n",
        "When a key-value pair is added to a dictionary, the key is passed through a hash function. This function generates an integer hash value, which is then used to determine the memory location (or \"bucket\") where the key-value pair will be stored.\n",
        "\n",
        "  •  Collision Handling:\n",
        "Multiple keys might produce the same hash value (a \"collision\"). Python's dictionary implementation handles these collisions, typically using techniques like open addressing or separate chaining, to ensure that each key can still be uniquely identified and its corresponding value retrieved.\n",
        "\n",
        " •  Unordered (Historically):\n",
        "In Python versions prior to 3.7, dictionaries were inherently unordered, meaning the order in which items were inserted was not preserved. As of Python 3.7 and later, dictionaries maintain insertion order.\n",
        "\n",
        " •  Mutable:\n",
        "Dictionaries are mutable, allowing for the addition, modification, and deletion of key-value pairs after creation.\n",
        "\n",
        "•  Immutable Keys:\n",
        "Dictionary keys must be immutable data types (e.g., strings, numbers, tuples). This immutability is crucial for consistent hashing and reliable key lookup. Values, however, can be of any data type, including mutable ones like lists or other dictionaries.\n"
      ],
      "metadata": {
        "id": "1SqePPONxkyA"
      }
    },
    {
      "cell_type": "markdown",
      "source": [
        "5. Why might you use a set instead of list in python?\n",
        "   A Python set is preferred over a list in scenarios where:\n",
        "\n",
        "   •\tUniqueness of Elements is Required:\n",
        "Sets automatically enforce uniqueness, meaning they cannot contain duplicate elements. If an attempt is made to add a duplicate, it will be ignored. This is particularly useful for tasks like removing duplicates from a collection of data.\n",
        "\n",
        "   •\tEfficient Membership Testing:\n",
        "Sets offer significantly faster membership testing (checking if an element exists within the collection) compared to lists. This is due to their underlying hash-table implementation, which provides an average time complexity of O(1) for lookups, whereas lists require a linear search (O(n)).\n",
        "\n",
        "  •\tMathematical Set Operations:\n",
        "Sets provide built-in support for mathematical set operations like union, intersection, difference, and symmetric difference. These operations are highly optimized and convenient for tasks involving comparisons and manipulations of distinct collections.\n",
        "\n",
        "  •\tOrder of Elements is Not Important:\n",
        "Sets are unordered collections, meaning the elements do not maintain a specific order. If the order of elements is not a concern, or if the order is irrelevant to the processing, using a set can be more efficient due to its internal organization.\n"
      ],
      "metadata": {
        "id": "lLM-DvpwyD6M"
      }
    },
    {
      "cell_type": "markdown",
      "source": [
        "6. What is string in Python and how is it difference from list?\n",
        "\n",
        "1 - Strings in Python are sequences of characters enclosed in quotes ('' or “”). Lists are ordered collections of items enclosed in square brackets [].\n",
        "\n",
        "2) Strings are immutable, meaning they cannot be changed once created, while lists are mutable and can be modified as needed.\n",
        "\n",
        "3) Operations like concatenation (+) and repetition (*) work differently for strings and lists. Concatenating strings will merge them together, while concatenating lists will combine their elements.\n",
        "\n",
        "4) String methods like upper(), lower(), and replace() are tailored for text processing, while list methods like append(), remove(), and sort(), and copy() are specific to working with collections of items.\n",
        "\n",
        "5) Strings can be indexed and sliced to access individual characters or substrings, while lists can be accessed using indices to retrieve or modify elements.\n",
        "\n",
        "6) Strings have a fixed length, while lists can dynamically grow or shrink in size by adding or removing elements.\n",
        "\n",
        "7) List comprehension is a powerful feature in Python for creating lists based on existing iterables, while there is no direct equivalent for strings.\n",
        "\n",
        "8) Strings are useful for representing textual data, while lists are versatile data structures that can store different types of elements.\n",
        "\n",
        "9) String formatting allows for creating formatted output using placeholders, while lists can be formatted directly by converting them to strings.\n",
        "\n",
        "10) Both strings and lists are iterable objects in Python, allowing for easy iteration over their elements using loops or comprehension techniques.\n"
      ],
      "metadata": {
        "id": "xVrNxgzlzzF9"
      }
    },
    {
      "cell_type": "markdown",
      "source": [
        "7.  How do tuples ensure data integrity in Python?\n",
        "    Tuples in Python ensure data integrity primarily through their immutability. This characteristic means that once a tuple is created, its elements cannot be changed, added, or removed.\n",
        "    Here's how immutability contributes to data integrity:\n",
        "\n",
        "    •\tPrevention of Accidental Modifications:\n",
        "Since tuples cannot be altered after creation, there is no risk of inadvertently changing critical data. This is particularly valuable for storing fixed settings, configurations, or data that should remain constant throughout a program's execution.\n",
        "\n",
        "    •\tEnsuring Data Consistency:\n",
        "When a tuple is passed around in a program, its contents are guaranteed to remain the same. This consistency helps prevent unexpected behavior or errors that might arise from data being modified in different parts of the code\n",
        "\n",
        "    •\tSuitability for Fixed Data:\n",
        "Tuples are ideal for representing collections of related data that are inherently static, such as coordinates, database records, or return values from functions that should not be altered.\n",
        "\n",
        "    •\tUse as Dictionary Keys:\n",
        "Because tuples are immutable and therefore hashable (meaning they can be assigned a unique hash value), they can be used as keys in dictionaries, which require immutable objects for their keys. This allows for reliable data retrieval based on a fixed set of values.\n"
      ],
      "metadata": {
        "id": "1_Jb4DG_z_nx"
      }
    },
    {
      "cell_type": "markdown",
      "source": [
        "8. What is hash table and how does it relate to dictionaries in Python?\n",
        "   A hash table is a data structure that stores key-value pairs, allowing for efficient retrieval of values based on their associated keys. It utilizes a hash function to map keys to specific indices within an underlying array or list, often referred to as buckets or slots. This mapping enables direct access to the stored values, significantly speeding up search, insertion, and deletion operations.\n",
        "   How it relates to dictionaries in Python:\n",
        "   Python's built-in dict type is an implementation of a hash table. When you create a dictionary in Python, you are essentially creating a hash table. The keys you use in a Python dictionary are processed by a hashing function to determine their location in the underlying hash table, allowing for fast lookups.\n",
        "   Key aspects of this relationship:\n",
        "\n",
        "    •\tKey-Value Storage:\n",
        "Both hash tables and Python dictionaries store data as key-value pairs.\n",
        "\n",
        "    •\tHashing for Efficiency:\n",
        "Dictionaries leverage hashing to achieve efficient average-case time complexity for operations like getting, setting, and deleting items.\n",
        "\n",
        "    •\tHashable Keys:\n",
        "Dictionary keys in Python must be \"hashable,\" meaning they can be processed by a hash function to produce a consistent hash value. Immutable types like strings, numbers, and tuples are hashable, while mutable types like lists and sets are not.\n",
        "\n",
        "    •\tCollision Handling:\n",
        "Since different keys can potentially produce the same hash value (a \"collision\"), hash tables, and thus Python dictionaries, employ strategies like separate chaining or open addressing to handle these collisions and ensure data integrity.\n",
        "\n",
        "    •\tOptimized Implementation:\n",
        "Python's dict is a highly optimized and efficient implementation of a hash table, built in C for performance. This means developers typically don't need to implement hash tables from scratch in Python.\n"
      ],
      "metadata": {
        "id": "q5epoNE20VM8"
      }
    },
    {
      "cell_type": "markdown",
      "source": [
        "9.Can list contain different data types in Python ?\n",
        "  Yes, a Python list can contain elements of different data types. This is a fundamental characteristic of Python lists, making them a very flexible and versatile data structure.\n",
        "  For example, a single list can hold a combination of:\n",
        "\n",
        "•\tIntegers: 10, 25\n",
        "\n",
        "•\tFloats: 3.14, 2.718\n",
        "\n",
        "•\tStrings: \"hello\", \"Python\"\n",
        "\n",
        "•\tBooleans: True, False\n",
        "\n",
        "•\tOther data structures: such as nested lists, tuples, or dictionaries.\n",
        "Here is an example demonstrating a list with mixed data types:\n",
        "\n",
        "mixed_list = [1, \"apple\", 3.14, True, [5, 6], {\"name\": \"Alice\"}]\n",
        "\n",
        "print(mixed_list)\n"
      ],
      "metadata": {
        "id": "EUxJOEwO0nbf"
      }
    },
    {
      "cell_type": "markdown",
      "source": [
        "10. Explain why strings are immutable in Python?\n",
        "    Strings in Python are immutable, meaning their content cannot be changed after they are created. This design choice offers several advantages:\n",
        "\n",
        "    •\tMemory Efficiency and Optimization:\n",
        "Python implements string interning, where identical string literals are stored only once in memory. This reduces memory consumption, especially for frequently used strings. If strings were mutable, modifying one instance could inadvertently affect other references to the \"same\" string, breaking this optimization.\n",
        "\n",
        "    •\tThread Safety:\n",
        "In multi-threaded environments, immutable strings are inherently thread-safe. Multiple threads can access and read the same string object without the risk of one thread modifying it while another is using it, which eliminates the need for complex locking mechanisms.\n",
        "\n",
        "    •\tHashability:\n",
        "Immutability makes strings hashable, enabling their use as keys in dictionaries and elements in sets. Hashing relies on an object's value remaining constant, and if strings were mutable, their hash value could change, leading to issues in data structures that depend on hashing.\n",
        "\n",
        "    •\tReduced Errors and Predictability:\n",
        "Immutability prevents unintended side effects. If a string object were passed to a function and modified within that function, it could lead to unexpected changes in other parts of the program that hold a reference to the same string. Immutable strings ensure that operations like replace() or upper() always return a new string object, leaving the original intact.\n",
        "\n",
        "    •\tSecurity:\n",
        "Immutability can contribute to security by preventing buffer overruns or other memory-related vulnerabilities that can arise when string content can be arbitrarily modified in place.\n"
      ],
      "metadata": {
        "id": "Vb6Obp_T05K7"
      }
    },
    {
      "cell_type": "markdown",
      "source": [
        "11. What advantages do dictionaries offer over lists for certain tasks?\n",
        "\n",
        "    A dictionary has several advantages over a list especially in python. Dictionarys have two parts to every entry the key and the value and these are stored as pairs. This can give you more flexibility when storing data. The primary advantage would be retrieving stored values as it is much simpler to search through a dictionary.If the data your trying to store is identifiable so the data can be attributed to name name or item this might be a preferable system. One example would be storing the age of school students. You could store the age and name as a value and key pair. This would allow you to sort the dictionary for a particular student and retrieve their age. To do this with lists you would require two lists to search through or a very complicated indexing systems.\n"
      ],
      "metadata": {
        "id": "hr0R3V4V1Ira"
      }
    },
    {
      "cell_type": "markdown",
      "source": [
        "12.Describe a scenario where using a tuple would be preferable over a list.\n",
        "\n",
        "•\tTuples are faster than lists. If you're defining a constant set of values and all you're ever going to do with it is iterate through it, use a tuple instead of a list.\n",
        "\n",
        "•\tIt makes your code safer if you “write-protect” data that does not need to be changed. Using a tuple instead of a list is like having an implied assert statement that this data is constant, and that special thought (and a specific function) is required to override that.\n",
        "\n",
        "•\tSome tuples can be used as dictionary keys (specifically, tuples that contain immutable values like strings, numbers, and other tuples). Lists can never be used as dictionary keys, because lists are mutable.\n"
      ],
      "metadata": {
        "id": "n3JbXiPj1K8A"
      }
    },
    {
      "cell_type": "markdown",
      "source": [
        "13. How do sets handle duplicate values in Python ?\n",
        "    Python sets fundamentally do not allow duplicate values. They are designed to store only unique elements.\n",
        "    When attempting to add a duplicate element to a set:\n",
        "\n",
        "    •\tAutomatic Removal:\n",
        "If an element already exists within the set, and you try to add it again, the set will simply ignore the addition. It will not raise an error, nor will it store a second instance of the same value.\n",
        "    •\tInitialization:\n",
        "If you create a set from an iterable (like a list or tuple) that contains duplicate values, the set constructor will automatically filter out the duplicates, resulting in a set containing only unique elements.\n",
        "This characteristic makes sets highly useful for operations requiring unique collections, such as removing duplicates from a list or performing mathematical set operations like union, intersection, and difference.\n"
      ],
      "metadata": {
        "id": "mfrsmMW31Qp8"
      }
    },
    {
      "cell_type": "markdown",
      "source": [
        "14. How do the “in” keyword works differently for lists and dictionaries?\n",
        "\n",
        "    •  in for lists checks for the presence of an element by iterating through the list.\n",
        "    \n",
        "    •  in for dictionaries checks for the presence of a key using efficient hash-based lookups\n"
      ],
      "metadata": {
        "id": "bIV335201aeS"
      }
    },
    {
      "cell_type": "markdown",
      "source": [
        "15. Can you modify the elements of tuple. Explain why or why not?\n",
        "\n",
        "    No, you cannot directly modify the elements of a tuple in Python. Tuples are immutable, meaning their contents cannot be changed after creation. Attempting to modify a tuple element will result in a TypeError\n"
      ],
      "metadata": {
        "id": "Nu4mov0e1rso"
      }
    },
    {
      "cell_type": "markdown",
      "source": [
        "16. What is nested dictionary and give an example of its usecase.\n",
        "\n",
        "    A nested dictionary is a dictionary where at least one of the values is itself a dictionary. This allows for creating hierarchical data structures, organizing information in a structured way. For example, you could use a nested dictionary to store employee information, where the outer dictionary's keys are employee IDs, and the values are dictionaries containing the employee's name, department, and other details.\n",
        "    Example:\n",
        "\n",
        "employees = {\n",
        "    'emp1': {\n",
        "        'name': 'Alice',\n",
        "        'department': 'Sales',\n",
        "        'salary': 50000\n",
        "    },\n",
        "    'emp2': {\n",
        "        'name': 'Bob',\n",
        "        'department': 'Marketing',\n",
        "        'salary': 60000\n",
        "    }\n",
        "}\n",
        "\n",
        "# Accessing data in a nested dictionary\n",
        "print(employees['emp1']['name'])  # Output: Alice\n",
        "print(employees['emp2']['department'])  # Output: Marketing\n"
      ],
      "metadata": {
        "id": "49uF5DIp1uhS"
      }
    },
    {
      "cell_type": "markdown",
      "source": [
        "17. Describe the time complexity of accessing elements in dictionary.\n",
        "\n",
        "    Accessing an element in a dictionary (or hash table) has an average time complexity of O(1). This means that, on average, the time it takes to find a value associated with a key is constant and does not depend on the number of elements in the dictionary.\n",
        "    Explanation:\n",
        "    •\tHash Tables:\n",
        "Dictionaries are typically implemented using hash tables, which provide very efficient lookups.\n",
        "    • Hashing:\n",
        "When you try to access a value by its key, the dictionary uses a hash function to calculate a hash value from the key. This hash value is used as an index to locate the corresponding key-value pair within the hash\n",
        "table.\n"
      ],
      "metadata": {
        "id": "HLgwS17f17hl"
      }
    },
    {
      "cell_type": "markdown",
      "source": [
        "18. In what situations are lists preferred over dictionaries?\n",
        "\n",
        "    If you need an ordered collection, like a sequence of user actions, lists are your go-to. On the other hand, when you need quick look-ups, like mapping usernames to user data, dictionaries are invaluable\n"
      ],
      "metadata": {
        "id": "tvEVfF-q2DGf"
      }
    },
    {
      "cell_type": "markdown",
      "source": [
        "19. Why are dictionaries considered unordered and how does that affect data retrieval?\n",
        "\n",
        "    A dictionary is termed an unordered collection of objects because dictionaries do not maintain any inherent order of the items based on when they were added. In older versions of Python (before 3.7), dictionaries did not preserve insertion order at all. This meant that when you accessed or printed the items, the order could vary, as dictionaries were optimized for fast lookups rather than maintaining order.\n"
      ],
      "metadata": {
        "id": "PBTET3rV2HyV"
      }
    },
    {
      "cell_type": "markdown",
      "source": [
        "20. Explain the difference between list and dictionary in terms of data retrieval.\n",
        "\n",
        "    A list is an ordered collection of items, whereas a dictionary is an unordered data collection in a key: value pair. Elements from the list can be accessed using the index, while the elements of the dictionary can be accessed using keys\n"
      ],
      "metadata": {
        "id": "j2VotPAf2Mgr"
      }
    },
    {
      "cell_type": "markdown",
      "source": [
        "**PRACTICAL QUESTIONS**"
      ],
      "metadata": {
        "id": "6V5VANeOuXLM"
      }
    },
    {
      "cell_type": "code",
      "source": [
        "# Write a code to create a string with your name and print it.\n",
        "name = \"Divya\"\n",
        "print(name)"
      ],
      "metadata": {
        "colab": {
          "base_uri": "https://localhost:8080/"
        },
        "id": "NljO9H_Asluo",
        "outputId": "477fb222-367a-4919-d9f5-d5ef84ddd543"
      },
      "execution_count": 34,
      "outputs": [
        {
          "output_type": "stream",
          "name": "stdout",
          "text": [
            "Divya\n"
          ]
        }
      ]
    },
    {
      "cell_type": "code",
      "source": [
        "# Write a code to find the length of string \"Hello World\"\n",
        "\n",
        "string = \"Hello World\"\n",
        "print(len(string))"
      ],
      "metadata": {
        "colab": {
          "base_uri": "https://localhost:8080/"
        },
        "id": "8i_JoPlFJsft",
        "outputId": "b93932b8-e065-4767-e562-58d815dad504"
      },
      "execution_count": null,
      "outputs": [
        {
          "output_type": "stream",
          "name": "stdout",
          "text": [
            "11\n"
          ]
        }
      ]
    },
    {
      "cell_type": "code",
      "source": [
        "# Write a code to slice first 3 characters from the string \"Python Programming\"\n",
        "\n",
        "a = \"Python Programming\"\n",
        "print(a[0:3])"
      ],
      "metadata": {
        "colab": {
          "base_uri": "https://localhost:8080/"
        },
        "id": "_vR5-MuzJ73N",
        "outputId": "b2de6b0b-941b-4e9e-eba0-8a9875a4243f"
      },
      "execution_count": null,
      "outputs": [
        {
          "output_type": "stream",
          "name": "stdout",
          "text": [
            "Pyt\n"
          ]
        }
      ]
    },
    {
      "cell_type": "code",
      "source": [
        "# Write a code to convert the string \"hello\" to uppercase\n",
        "\n",
        "a = \"hello\"\n",
        "print(a.upper())"
      ],
      "metadata": {
        "colab": {
          "base_uri": "https://localhost:8080/"
        },
        "id": "yLQKxRMDKPhl",
        "outputId": "acd51c29-a215-4f3c-d05b-50c4e53d6ef0"
      },
      "execution_count": null,
      "outputs": [
        {
          "output_type": "stream",
          "name": "stdout",
          "text": [
            "HELLO\n"
          ]
        }
      ]
    },
    {
      "cell_type": "code",
      "source": [
        "# Write a code to create a list with numbers 1 to 5 and print it.\n",
        "list = [1,2,3,4,5]\n",
        "print(list)"
      ],
      "metadata": {
        "colab": {
          "base_uri": "https://localhost:8080/"
        },
        "id": "2ApjUIiDKgAW",
        "outputId": "5705ddce-4027-4092-b2ea-ca7ce757b767"
      },
      "execution_count": null,
      "outputs": [
        {
          "output_type": "stream",
          "name": "stdout",
          "text": [
            "[1, 2, 3, 4, 5]\n"
          ]
        }
      ]
    },
    {
      "cell_type": "code",
      "source": [
        "# Write a code to append the number 10 to the list [1,2,3,4]\n",
        "list = [1,2,3,4]\n",
        "list.append(10)\n",
        "print(list)"
      ],
      "metadata": {
        "colab": {
          "base_uri": "https://localhost:8080/"
        },
        "id": "9Fhu233VKs78",
        "outputId": "447a0cce-e345-49e5-af20-292266acfc3f"
      },
      "execution_count": null,
      "outputs": [
        {
          "output_type": "stream",
          "name": "stdout",
          "text": [
            "[1, 2, 3, 4, 10]\n"
          ]
        }
      ]
    },
    {
      "cell_type": "code",
      "source": [
        "# Write a code to remove the number 3 from the list [1,2,3,4,5]\n",
        "\n",
        "a=[1,2,3,4,5]\n",
        "a.remove(3)\n",
        "print(a)"
      ],
      "metadata": {
        "colab": {
          "base_uri": "https://localhost:8080/"
        },
        "id": "wEHZUp5QK70u",
        "outputId": "3284cf2b-fe89-4f1f-807b-8f4cb918b59a"
      },
      "execution_count": null,
      "outputs": [
        {
          "output_type": "stream",
          "name": "stdout",
          "text": [
            "[1, 2, 4, 5]\n"
          ]
        }
      ]
    },
    {
      "cell_type": "code",
      "source": [
        "# Write a code to access the second element of the list['a','b','c','d']\n",
        "\n",
        "list = ['a','b','c','d']\n",
        "print(list[1])"
      ],
      "metadata": {
        "colab": {
          "base_uri": "https://localhost:8080/"
        },
        "id": "ehhheTQYLKLy",
        "outputId": "a4c5753f-d290-4e84-dd2d-a3e4628cee7c"
      },
      "execution_count": null,
      "outputs": [
        {
          "output_type": "stream",
          "name": "stdout",
          "text": [
            "b\n"
          ]
        }
      ]
    },
    {
      "cell_type": "code",
      "source": [
        "# Write a code to reverse the list [10,20,30,40,50]\n",
        "\n",
        "list = [10,20,30,40,50]\n",
        "print(list[::-1])"
      ],
      "metadata": {
        "colab": {
          "base_uri": "https://localhost:8080/"
        },
        "id": "ChQDTvp4Ldp0",
        "outputId": "82affed6-97de-4318-aaf7-aebad8fcd8ec"
      },
      "execution_count": null,
      "outputs": [
        {
          "output_type": "stream",
          "name": "stdout",
          "text": [
            "[50, 40, 30, 20, 10]\n"
          ]
        }
      ]
    },
    {
      "cell_type": "code",
      "source": [
        "# Write a code to create a tuple with elements 100,200,300 and print it\n",
        "\n",
        "tuple = (100,200,300)\n",
        "print(tuple)\n",
        "\n"
      ],
      "metadata": {
        "colab": {
          "base_uri": "https://localhost:8080/"
        },
        "id": "sPIfVwFRLwP9",
        "outputId": "c24b91a9-de44-4ebb-bd28-6e34c7303ab8"
      },
      "execution_count": null,
      "outputs": [
        {
          "output_type": "stream",
          "name": "stdout",
          "text": [
            "(100, 200, 300)\n"
          ]
        }
      ]
    },
    {
      "cell_type": "code",
      "source": [
        "# Write a code to access second to last element of tuple ('red','green','blue','yellow')\n",
        "\n",
        "tuple = ('red','green','blue','yellow')\n",
        "print(tuple[1::])"
      ],
      "metadata": {
        "colab": {
          "base_uri": "https://localhost:8080/"
        },
        "id": "nI0Ktw78MENP",
        "outputId": "62073ea7-123e-4185-defc-71cc436ec679"
      },
      "execution_count": null,
      "outputs": [
        {
          "output_type": "stream",
          "name": "stdout",
          "text": [
            "('green', 'blue', 'yellow')\n"
          ]
        }
      ]
    },
    {
      "cell_type": "code",
      "source": [
        "# Write a code to find the minimum number in a tuple(10,20,5,15)\n",
        "\n",
        "number = (10,20,5,15)\n",
        "print(min(number))"
      ],
      "metadata": {
        "colab": {
          "base_uri": "https://localhost:8080/"
        },
        "id": "PraQH6HTNCtB",
        "outputId": "826cc595-2255-488e-dfbb-55c7c60c0151"
      },
      "execution_count": null,
      "outputs": [
        {
          "output_type": "stream",
          "name": "stdout",
          "text": [
            "5\n"
          ]
        }
      ]
    },
    {
      "cell_type": "code",
      "source": [
        "# Write a code to find the index of the element \"cat\" in the tuple (\"dog\",\"cat\",\"rabbit\")\n",
        "\n",
        "animals = (\"dog\",\"cat\",\"rabbit\")\n",
        "print(animals.index(\"cat\"))"
      ],
      "metadata": {
        "colab": {
          "base_uri": "https://localhost:8080/"
        },
        "id": "s3GgPC2NNaCp",
        "outputId": "506e9c2a-8231-4c95-f7d2-88fe673465f8"
      },
      "execution_count": null,
      "outputs": [
        {
          "output_type": "stream",
          "name": "stdout",
          "text": [
            "1\n"
          ]
        }
      ]
    },
    {
      "cell_type": "code",
      "source": [
        "# Write a code to create a tuple containing 3 different fruits and find if \"Kiwi\" is in it.\n",
        "\n",
        "fruits = (\"Apple\",\"Orange\",\"Grapes\")\n",
        "\n",
        "if \"Kiwi\" in fruits:\n",
        "  print(\"Kiwi is in fruits\")\n",
        "else:\n",
        "  print(\"Kiwi is not in fruits\")\n",
        "\n",
        "\n"
      ],
      "metadata": {
        "colab": {
          "base_uri": "https://localhost:8080/"
        },
        "id": "Irnsl9oKOBYd",
        "outputId": "9a1051e7-34e9-47df-c9d2-09c06819b51c"
      },
      "execution_count": null,
      "outputs": [
        {
          "output_type": "stream",
          "name": "stdout",
          "text": [
            "Kiwi is not in fruits\n"
          ]
        }
      ]
    },
    {
      "cell_type": "code",
      "source": [
        "# Write a code to create a set with elements 'a','b' and 'c' and print it.\n",
        "\n",
        "set = {'a','b','c'}\n",
        "print (set)\n",
        "\n"
      ],
      "metadata": {
        "colab": {
          "base_uri": "https://localhost:8080/"
        },
        "id": "OOb8xQD4O_9y",
        "outputId": "99ceafdc-96f4-473a-aafd-5a99b59730f7"
      },
      "execution_count": null,
      "outputs": [
        {
          "output_type": "stream",
          "name": "stdout",
          "text": [
            "{'b', 'c', 'a'}\n"
          ]
        }
      ]
    },
    {
      "cell_type": "code",
      "source": [
        "# Write a code to clear all the elements from the set {1,2,3,4,5}\n",
        "\n",
        "set = {1,2,3,4,5}\n",
        "set.clear()\n",
        "print(set)"
      ],
      "metadata": {
        "colab": {
          "base_uri": "https://localhost:8080/"
        },
        "id": "XDYU-JwcPVFs",
        "outputId": "ac0ffe82-0bc7-477e-8b80-c16beb8d0e37"
      },
      "execution_count": null,
      "outputs": [
        {
          "output_type": "stream",
          "name": "stdout",
          "text": [
            "set()\n"
          ]
        }
      ]
    },
    {
      "cell_type": "code",
      "source": [
        "# Write a code to remove the element 4 from the set {1,2,3,4}\n",
        "\n",
        "set = {1,2,3,4}\n",
        "set.remove(4)\n",
        "print(set)"
      ],
      "metadata": {
        "colab": {
          "base_uri": "https://localhost:8080/"
        },
        "id": "2MojQqO9PlGX",
        "outputId": "14c59cbd-91b2-44e7-9ecf-bc44aca04b78"
      },
      "execution_count": null,
      "outputs": [
        {
          "output_type": "stream",
          "name": "stdout",
          "text": [
            "{1, 2, 3}\n"
          ]
        }
      ]
    },
    {
      "cell_type": "code",
      "source": [
        "# Write a code to find the union of 2 sets {1,2,3} and {3,4,5}\n",
        "\n",
        "set1 = {1,2,3}\n",
        "set2 = {3,4,5}\n",
        "\n",
        "print(set1.union(set2))"
      ],
      "metadata": {
        "colab": {
          "base_uri": "https://localhost:8080/"
        },
        "id": "l5LDfzISPzzO",
        "outputId": "371c871c-fb91-4b49-8764-a44280a87259"
      },
      "execution_count": null,
      "outputs": [
        {
          "output_type": "stream",
          "name": "stdout",
          "text": [
            "{1, 2, 3, 4, 5}\n"
          ]
        }
      ]
    },
    {
      "cell_type": "code",
      "source": [
        "# Write a code to find the intersection of 2 sets {1,2,3} and {2,3,4}\n",
        "\n",
        "set1 = {1,2,3}\n",
        "set2 = {2,3,4}\n",
        "\n",
        "print(set1.intersection(set2))"
      ],
      "metadata": {
        "colab": {
          "base_uri": "https://localhost:8080/"
        },
        "id": "KH0UPD3hQIc5",
        "outputId": "57a5a410-c517-4606-ca14-03119d725809"
      },
      "execution_count": null,
      "outputs": [
        {
          "output_type": "stream",
          "name": "stdout",
          "text": [
            "{2, 3}\n"
          ]
        }
      ]
    },
    {
      "cell_type": "code",
      "source": [
        "# Write a code to create a dictionary with the keys \"name\",\"age\" and \"city\" and print it.\n",
        "\n",
        "dict = {\"name\":\"Divya\",\"age\":20,\"city\":\"Gwalior\"}\n",
        "print(dict)"
      ],
      "metadata": {
        "colab": {
          "base_uri": "https://localhost:8080/"
        },
        "id": "pEmUDIhbQWD7",
        "outputId": "e671da84-875f-4a21-b3e9-f707dffeb72f"
      },
      "execution_count": null,
      "outputs": [
        {
          "output_type": "stream",
          "name": "stdout",
          "text": [
            "{'name': 'Divya', 'age': 20, 'city': 'Gwalior'}\n"
          ]
        }
      ]
    },
    {
      "cell_type": "code",
      "source": [
        "# Write a code to add a ner key:value pair \"country\":\"USA\" to the dictionary {'name':'John','age':25}\n",
        "\n",
        "details = {'name':'John','age':25}\n",
        "details['country'] = 'USA'\n",
        "print(details)"
      ],
      "metadata": {
        "colab": {
          "base_uri": "https://localhost:8080/"
        },
        "id": "Omf9dKyEQskf",
        "outputId": "81901e7c-b33d-4b42-d8d6-a41769a25895"
      },
      "execution_count": null,
      "outputs": [
        {
          "output_type": "stream",
          "name": "stdout",
          "text": [
            "{'name': 'John', 'age': 25, 'country': 'USA'}\n"
          ]
        }
      ]
    },
    {
      "cell_type": "code",
      "source": [
        "# Write a code to access the value associated with a key \"name\" in the dictionary {'name:'Alice','age':30}\n",
        "\n",
        "details = {'name':'Alice','age':30}\n",
        "print(details['name'])"
      ],
      "metadata": {
        "colab": {
          "base_uri": "https://localhost:8080/"
        },
        "id": "Amz3noFuRTgK",
        "outputId": "ef0135b5-558f-49d2-d578-a0706631d904"
      },
      "execution_count": null,
      "outputs": [
        {
          "output_type": "stream",
          "name": "stdout",
          "text": [
            "Alice\n"
          ]
        }
      ]
    },
    {
      "cell_type": "code",
      "source": [
        "# Write a code to remove the key \"Age\" from the dictionary {'name':'Bob','age':32,'city':'new york'}\n",
        "\n",
        "dict = {'name':'Bob','age':32,'city':'new york'}\n",
        "dict.pop('age')\n",
        "print(dict)\n"
      ],
      "metadata": {
        "id": "4HeRlaewRz8_",
        "colab": {
          "base_uri": "https://localhost:8080/"
        },
        "outputId": "bb273855-ad4d-44e6-a7ef-2d260ab80599"
      },
      "execution_count": 1,
      "outputs": [
        {
          "output_type": "stream",
          "name": "stdout",
          "text": [
            "{'name': 'Bob', 'city': 'new york'}\n"
          ]
        }
      ]
    },
    {
      "cell_type": "code",
      "source": [
        "# Write a code to check whether a key \"city\" exist in the dictionary {\"name\":\"Alice\",\"city\":\"Paris\"}\n",
        "\n",
        "details = {\"name\":\"Alice\",\"city\":\"Paris\"}\n",
        "if \"city\" in details :\n",
        "  print(\"City is in details\")\n",
        "else:\n",
        "  print(\"city is not in details\")"
      ],
      "metadata": {
        "colab": {
          "base_uri": "https://localhost:8080/"
        },
        "id": "i1iXxAWrnq92",
        "outputId": "525e35a0-fba9-4c2b-8e68-758b6e2fa0b3"
      },
      "execution_count": 6,
      "outputs": [
        {
          "output_type": "stream",
          "name": "stdout",
          "text": [
            "City is in details\n"
          ]
        }
      ]
    },
    {
      "cell_type": "code",
      "source": [
        "# Write a code to create list ,tuple and dictionary and print them all.\n",
        "\n",
        "Numbers = [1,2,3,4,5]\n",
        "Tuple_fruits = (\"Apple\",\"Banana\",\"Mango\")\n",
        "dict = {\"name\":\"Divya\",\"city\":\"gwalior\"}\n",
        "\n",
        "print(\"The list is\",Numbers)\n",
        "print(\"The tuple is\",Tuple_fruits)\n",
        "print(\"The dictionary is\",dict)"
      ],
      "metadata": {
        "colab": {
          "base_uri": "https://localhost:8080/"
        },
        "id": "K7wdvycXn5I0",
        "outputId": "988fcc48-2fe8-491f-f541-9505edd5275a"
      },
      "execution_count": 15,
      "outputs": [
        {
          "output_type": "stream",
          "name": "stdout",
          "text": [
            "The list is [1, 2, 3, 4, 5]\n",
            "The tuple is ('Apple', 'Banana', 'Mango')\n",
            "The dictionary is {'name': 'Divya', 'city': 'gwalior'}\n"
          ]
        }
      ]
    },
    {
      "cell_type": "code",
      "source": [
        "# Write a code to create a list of 5 random numbers between 1 and 100 ,sort nascending order and prnt the result.\n",
        "\n",
        "list = [3,76,45,900,2]\n",
        "list.sort()\n",
        "print(list)"
      ],
      "metadata": {
        "colab": {
          "base_uri": "https://localhost:8080/"
        },
        "id": "RLQQ5ARvp6j4",
        "outputId": "eb33e9eb-ee63-4aae-928f-cbbc44612327"
      },
      "execution_count": 19,
      "outputs": [
        {
          "output_type": "stream",
          "name": "stdout",
          "text": [
            "[2, 3, 45, 76, 900]\n"
          ]
        }
      ]
    },
    {
      "cell_type": "code",
      "source": [
        "# Write a code to create a list with strings and print the element at third index.\n",
        "\n",
        "string = [\"apple\",\"mango\",\"lichi\",\"banana\",\"watermelon\"]\n",
        "print(string[3])"
      ],
      "metadata": {
        "colab": {
          "base_uri": "https://localhost:8080/"
        },
        "id": "LpZ_9cx2pXzh",
        "outputId": "0ecd8676-f1d7-41ee-8fe5-9a86c2237dbf"
      },
      "execution_count": 21,
      "outputs": [
        {
          "output_type": "stream",
          "name": "stdout",
          "text": [
            "banana\n"
          ]
        }
      ]
    },
    {
      "cell_type": "code",
      "source": [
        "from ast import Add\n",
        "# Write a code to combine 2 dictionaries into one and print the result.\n",
        "\n",
        "dict1 = {\"name\":\"Divya\",\"age\":30}\n",
        "dict2 = {\"city\":\"gwalior\",\"colour\":\"yellow\"}\n",
        "\n",
        "dict1.update(dict2)\n",
        "\n",
        "print(dict1)"
      ],
      "metadata": {
        "colab": {
          "base_uri": "https://localhost:8080/"
        },
        "id": "icFV-JqJqpBu",
        "outputId": "aa185914-75db-4934-9068-a91b77fc5335"
      },
      "execution_count": 28,
      "outputs": [
        {
          "output_type": "stream",
          "name": "stdout",
          "text": [
            "{'name': 'Divya', 'age': 30, 'city': 'gwalior', 'colour': 'yellow'}\n"
          ]
        }
      ]
    },
    {
      "cell_type": "code",
      "source": [
        "# Write a code to convert list of strings into set.\n",
        "\n",
        "colours = [\"yellow\",\"white\",\"blue\",\"green\"]\n",
        "set_colours = set(colours)\n",
        "print(set_colours)"
      ],
      "metadata": {
        "colab": {
          "base_uri": "https://localhost:8080/"
        },
        "id": "ZBqVh5Ior7Wd",
        "outputId": "a3a1bb36-3478-445c-9761-b9dee2cdd1f5"
      },
      "execution_count": 32,
      "outputs": [
        {
          "output_type": "stream",
          "name": "stdout",
          "text": [
            "{'blue', 'green', 'white', 'yellow'}\n"
          ]
        }
      ]
    },
    {
      "cell_type": "markdown",
      "source": [],
      "metadata": {
        "id": "AltWwTKhscjt"
      }
    }
  ]
}